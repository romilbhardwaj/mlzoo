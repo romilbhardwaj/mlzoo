{
  "nbformat": 4,
  "nbformat_minor": 0,
  "metadata": {
    "colab": {
      "name": "ResNet-20 Retraining Experiments",
      "version": "0.3.2",
      "provenance": [],
      "collapsed_sections": [],
      "toc_visible": true,
      "include_colab_link": true
    },
    "kernelspec": {
      "name": "python3",
      "display_name": "Python 3"
    },
    "accelerator": "GPU"
  },
  "cells": [
    {
      "cell_type": "markdown",
      "metadata": {
        "id": "view-in-github",
        "colab_type": "text"
      },
      "source": [
        "<a href=\"https://colab.research.google.com/github/romilbhardwaj/mlzoo/blob/master/ResNet_20_Retraining_Experiments.ipynb\" target=\"_parent\"><img src=\"https://colab.research.google.com/assets/colab-badge.svg\" alt=\"Open In Colab\"/></a>"
      ]
    },
    {
      "cell_type": "markdown",
      "metadata": {
        "colab_type": "text",
        "id": "PBnw5B9kAzXT"
      },
      "source": [
        "# Profiling re-training ResNet 20 on CIFAR-10"
      ]
    },
    {
      "cell_type": "markdown",
      "metadata": {
        "id": "2R3TdLvFyQnB",
        "colab_type": "text"
      },
      "source": [
        "### Key Idea\n",
        "Remove 90% samples of one class, train, see accuracy, retrain with class.\n",
        "\n",
        "* Does class accuracy change?\n",
        "* How much time does it take? \n",
        "* Does it affect other classes?\n",
        "* How to prevent overfitting?"
      ]
    },
    {
      "cell_type": "markdown",
      "metadata": {
        "id": "jC3CYxYdAz6w",
        "colab_type": "text"
      },
      "source": [
        "### Imports"
      ]
    },
    {
      "cell_type": "code",
      "metadata": {
        "id": "ijYBHFeYBV7R",
        "colab_type": "code",
        "colab": {}
      },
      "source": [
        "import tensorflow as tf\n",
        "import os\n",
        "import time\n",
        "import numpy as np"
      ],
      "execution_count": 0,
      "outputs": []
    },
    {
      "cell_type": "code",
      "metadata": {
        "id": "UjirHKFMCEeM",
        "colab_type": "code",
        "colab": {}
      },
      "source": [
        "import tensorflow.keras\n",
        "from tensorflow.keras.datasets import cifar10\n",
        "from tensorflow.keras.layers import Dense, Conv2D, BatchNormalization, Activation\n",
        "from tensorflow.keras.layers import AveragePooling2D, Input, Flatten\n",
        "from tensorflow.keras.optimizers import Adam\n",
        "from tensorflow.keras.callbacks import ModelCheckpoint, LearningRateScheduler\n",
        "from tensorflow.keras.callbacks import ReduceLROnPlateau\n",
        "from tensorflow.keras.preprocessing.image import ImageDataGenerator\n",
        "from tensorflow.keras.regularizers import l2\n",
        "from tensorflow.keras import backend as K\n",
        "from tensorflow.keras.models import Model"
      ],
      "execution_count": 0,
      "outputs": []
    },
    {
      "cell_type": "markdown",
      "metadata": {
        "id": "kxytUicIEfiD",
        "colab_type": "text"
      },
      "source": [
        "### Setup some parameters"
      ]
    },
    {
      "cell_type": "code",
      "metadata": {
        "id": "h24danxYEiNs",
        "colab_type": "code",
        "colab": {}
      },
      "source": [
        "batch_size = 32  # orig paper trained all networks with batch_size=128\n",
        "epochs = 30\n",
        "num_classes = 10\n",
        "depth=20\n",
        "save_dir = os.path.join(os.getcwd(), 'saved_models')\n",
        "class_to_remove = 7\n",
        "holdout_sample_size=0.9"
      ],
      "execution_count": 0,
      "outputs": []
    },
    {
      "cell_type": "markdown",
      "metadata": {
        "id": "rbdfc22aBZXf",
        "colab_type": "text"
      },
      "source": [
        "## Setup ngrok for Tensorboard"
      ]
    },
    {
      "cell_type": "code",
      "metadata": {
        "id": "Ab2nf7wxBc88",
        "colab_type": "code",
        "outputId": "bdb59c45-9e6c-460d-8da2-22d8a3d3f6a7",
        "colab": {
          "base_uri": "https://localhost:8080/",
          "height": 238
        }
      },
      "source": [
        "! wget https://bin.equinox.io/c/4VmDzA7iaHb/ngrok-stable-linux-amd64.zip\n",
        "! unzip -o ngrok-stable-linux-amd64.zip"
      ],
      "execution_count": 4,
      "outputs": [
        {
          "output_type": "stream",
          "text": [
            "--2019-05-15 03:42:20--  https://bin.equinox.io/c/4VmDzA7iaHb/ngrok-stable-linux-amd64.zip\n",
            "Resolving bin.equinox.io (bin.equinox.io)... 35.172.177.65, 52.45.111.123, 34.231.75.48, ...\n",
            "Connecting to bin.equinox.io (bin.equinox.io)|35.172.177.65|:443... connected.\n",
            "HTTP request sent, awaiting response... 200 OK\n",
            "Length: 16529980 (16M) [application/octet-stream]\n",
            "Saving to: ‘ngrok-stable-linux-amd64.zip.5’\n",
            "\n",
            "ngrok-stable-linux- 100%[===================>]  15.76M  18.9MB/s    in 0.8s    \n",
            "\n",
            "2019-05-15 03:42:21 (18.9 MB/s) - ‘ngrok-stable-linux-amd64.zip.5’ saved [16529980/16529980]\n",
            "\n",
            "Archive:  ngrok-stable-linux-amd64.zip\n",
            "  inflating: ngrok                   \n"
          ],
          "name": "stdout"
        }
      ]
    },
    {
      "cell_type": "code",
      "metadata": {
        "id": "D7nBCSQMBhHT",
        "colab_type": "code",
        "colab": {}
      },
      "source": [
        "# kill all running ngrok instances\n",
        "!pkill -f ngrok\n",
        "\n",
        "# Execute tensorboard\n",
        "!rm -rf /tmp/checkpoints\n",
        "!mkdir /tmp/checkpoints\n",
        "LOG_DIR = '/tmp/checkpoints/'\n",
        "get_ipython().system_raw(\n",
        "    'tensorboard --logdir {} --host 0.0.0.0 --port 6006 &'\n",
        "    .format(LOG_DIR)\n",
        ")\n",
        "\n",
        "# execute ngrok\n",
        "get_ipython().system_raw('./ngrok http 6006 &')"
      ],
      "execution_count": 0,
      "outputs": []
    },
    {
      "cell_type": "code",
      "metadata": {
        "id": "GwuDY9YOBmgX",
        "colab_type": "code",
        "outputId": "4d6e4d24-cb73-428a-ff64-85890a9253cc",
        "colab": {
          "base_uri": "https://localhost:8080/",
          "height": 34
        }
      },
      "source": [
        "# Do the tunneling\n",
        "! curl -s http://localhost:4040/api/tunnels | python3 -c \\\n",
        "    \"import sys, json; print(json.load(sys.stdin)['tunnels'][0]['public_url'])\""
      ],
      "execution_count": 6,
      "outputs": [
        {
          "output_type": "stream",
          "text": [
            "https://6b112140.ngrok.io\n"
          ],
          "name": "stdout"
        }
      ]
    },
    {
      "cell_type": "markdown",
      "metadata": {
        "id": "D44cA5m2E1FG",
        "colab_type": "text"
      },
      "source": [
        "## Setup ResNet Model and Helper Functions"
      ]
    },
    {
      "cell_type": "code",
      "metadata": {
        "id": "ePEC7NHKE4xc",
        "colab_type": "code",
        "colab": {}
      },
      "source": [
        "def lr_schedule(epoch):\n",
        "    \"\"\"Learning Rate Schedule\n",
        "\n",
        "    Learning rate is scheduled to be reduced after 80, 120, 160, 180 epochs.\n",
        "    Called automatically every epoch as part of callbacks during training.\n",
        "\n",
        "    # Arguments\n",
        "        epoch (int): The number of epochs\n",
        "\n",
        "    # Returns\n",
        "        lr (float32): learning rate\n",
        "    \"\"\"\n",
        "    lr = 1e-3\n",
        "    if epoch > 180:\n",
        "        lr *= 0.5e-3\n",
        "    elif epoch > 160:\n",
        "        lr *= 1e-3\n",
        "    elif epoch > 120:\n",
        "        lr *= 1e-2\n",
        "    elif epoch > 80:\n",
        "        lr *= 1e-1\n",
        "    print('Learning rate: ', lr)\n",
        "    return lr\n",
        "\n",
        "\n",
        "def resnet_layer(inputs,\n",
        "                 num_filters=16,\n",
        "                 kernel_size=3,\n",
        "                 strides=1,\n",
        "                 activation='relu',\n",
        "                 batch_normalization=True,\n",
        "                 conv_first=True):\n",
        "    \"\"\"2D Convolution-Batch Normalization-Activation stack builder\n",
        "\n",
        "    # Arguments\n",
        "        inputs (tensor): input tensor from input image or previous layer\n",
        "        num_filters (int): Conv2D number of filters\n",
        "        kernel_size (int): Conv2D square kernel dimensions\n",
        "        strides (int): Conv2D square stride dimensions\n",
        "        activation (string): activation name\n",
        "        batch_normalization (bool): whether to include batch normalization\n",
        "        conv_first (bool): conv-bn-activation (True) or\n",
        "            bn-activation-conv (False)\n",
        "\n",
        "    # Returns\n",
        "        x (tensor): tensor as input to the next layer\n",
        "    \"\"\"\n",
        "    conv = Conv2D(num_filters,\n",
        "                  kernel_size=kernel_size,\n",
        "                  strides=strides,\n",
        "                  padding='same',\n",
        "                  kernel_initializer='he_normal',\n",
        "                  kernel_regularizer=l2(1e-4))\n",
        "\n",
        "    x = inputs\n",
        "    if conv_first:\n",
        "        x = conv(x)\n",
        "        if batch_normalization:\n",
        "            x = BatchNormalization()(x)\n",
        "        if activation is not None:\n",
        "            x = Activation(activation)(x)\n",
        "    else:\n",
        "        if batch_normalization:\n",
        "            x = BatchNormalization()(x)\n",
        "        if activation is not None:\n",
        "            x = Activation(activation)(x)\n",
        "        x = conv(x)\n",
        "    return x\n",
        "\n",
        "def resnet_v2(input_shape, depth, num_classes=10):\n",
        "    \"\"\"ResNet Version 2 Model builder [b]\n",
        "\n",
        "    Stacks of (1 x 1)-(3 x 3)-(1 x 1) BN-ReLU-Conv2D or also known as\n",
        "    bottleneck layer\n",
        "    First shortcut connection per layer is 1 x 1 Conv2D.\n",
        "    Second and onwards shortcut connection is identity.\n",
        "    At the beginning of each stage, the feature map size is halved (downsampled)\n",
        "    by a convolutional layer with strides=2, while the number of filter maps is\n",
        "    doubled. Within each stage, the layers have the same number filters and the\n",
        "    same filter map sizes.\n",
        "    Features maps sizes:\n",
        "    conv1  : 32x32,  16\n",
        "    stage 0: 32x32,  64\n",
        "    stage 1: 16x16, 128\n",
        "    stage 2:  8x8,  256\n",
        "\n",
        "    # Arguments\n",
        "        input_shape (tensor): shape of input image tensor\n",
        "        depth (int): number of core convolutional layers\n",
        "        num_classes (int): number of classes (CIFAR10 has 10)\n",
        "\n",
        "    # Returns\n",
        "        model (Model): Keras model instance\n",
        "    \"\"\"\n",
        "    if (depth - 2) % 9 != 0:\n",
        "        raise ValueError('depth should be 9n+2 (eg 56 or 110 in [b])')\n",
        "    # Start model definition.\n",
        "    num_filters_in = 16\n",
        "    num_res_blocks = int((depth - 2) / 9)\n",
        "\n",
        "    inputs = Input(shape=input_shape)\n",
        "    # v2 performs Conv2D with BN-ReLU on input before splitting into 2 paths\n",
        "    x = resnet_layer(inputs=inputs,\n",
        "                     num_filters=num_filters_in,\n",
        "                     conv_first=True)\n",
        "\n",
        "    # Instantiate the stack of residual units\n",
        "    for stage in range(3):\n",
        "        for res_block in range(num_res_blocks):\n",
        "            activation = 'relu'\n",
        "            batch_normalization = True\n",
        "            strides = 1\n",
        "            if stage == 0:\n",
        "                num_filters_out = num_filters_in * 4\n",
        "                if res_block == 0:  # first layer and first stage\n",
        "                    activation = None\n",
        "                    batch_normalization = False\n",
        "            else:\n",
        "                num_filters_out = num_filters_in * 2\n",
        "                if res_block == 0:  # first layer but not first stage\n",
        "                    strides = 2    # downsample\n",
        "\n",
        "            # bottleneck residual unit\n",
        "            y = resnet_layer(inputs=x,\n",
        "                             num_filters=num_filters_in,\n",
        "                             kernel_size=1,\n",
        "                             strides=strides,\n",
        "                             activation=activation,\n",
        "                             batch_normalization=batch_normalization,\n",
        "                             conv_first=False)\n",
        "            y = resnet_layer(inputs=y,\n",
        "                             num_filters=num_filters_in,\n",
        "                             conv_first=False)\n",
        "            y = resnet_layer(inputs=y,\n",
        "                             num_filters=num_filters_out,\n",
        "                             kernel_size=1,\n",
        "                             conv_first=False)\n",
        "            if res_block == 0:\n",
        "                # linear projection residual shortcut connection to match\n",
        "                # changed dims\n",
        "                x = resnet_layer(inputs=x,\n",
        "                                 num_filters=num_filters_out,\n",
        "                                 kernel_size=1,\n",
        "                                 strides=strides,\n",
        "                                 activation=None,\n",
        "                                 batch_normalization=False)\n",
        "            x = tf.keras.layers.add([x, y])\n",
        "\n",
        "        num_filters_in = num_filters_out\n",
        "\n",
        "    # Add classifier on top.\n",
        "    # v2 has BN-ReLU before Pooling\n",
        "    x = BatchNormalization()(x)\n",
        "    x = Activation('relu')(x)\n",
        "    x = AveragePooling2D(pool_size=8)(x)\n",
        "    y = Flatten()(x)\n",
        "    outputs = Dense(num_classes,\n",
        "                    activation='softmax',\n",
        "                    kernel_initializer='he_normal')(y)\n",
        "\n",
        "    # Instantiate model.\n",
        "    model = Model(inputs=inputs, outputs=outputs)\n",
        "    return model"
      ],
      "execution_count": 0,
      "outputs": []
    },
    {
      "cell_type": "markdown",
      "metadata": {
        "id": "XRAXAGKZBpW9",
        "colab_type": "text"
      },
      "source": [
        "## Get CIFAR-10"
      ]
    },
    {
      "cell_type": "code",
      "metadata": {
        "id": "A9qM8pgAB5no",
        "colab_type": "code",
        "outputId": "5053c885-f470-49cd-cf37-6b4781251d81",
        "colab": {
          "base_uri": "https://localhost:8080/",
          "height": 85
        }
      },
      "source": [
        "(x_train, y_train), (x_test, y_test) = cifar10.load_data()\n",
        "print('x_train shape:', x_train.shape)\n",
        "print('y_train shape:', x_train.shape)\n",
        "print(x_train.shape[0], 'train samples')\n",
        "print(x_test.shape[0], 'test samples')"
      ],
      "execution_count": 8,
      "outputs": [
        {
          "output_type": "stream",
          "text": [
            "x_train shape: (50000, 32, 32, 3)\n",
            "y_train shape: (50000, 32, 32, 3)\n",
            "50000 train samples\n",
            "10000 test samples\n"
          ],
          "name": "stdout"
        }
      ]
    },
    {
      "cell_type": "markdown",
      "metadata": {
        "id": "lif5S68ic6Bg",
        "colab_type": "text"
      },
      "source": [
        "### Remove the holdout samples from the training set"
      ]
    },
    {
      "cell_type": "code",
      "metadata": {
        "id": "xojQhOP6P0YH",
        "colab_type": "code",
        "colab": {
          "base_uri": "https://localhost:8080/",
          "height": 85
        },
        "outputId": "6a6e2fe3-1fdd-4d26-c1da-9bc8cec96995"
      },
      "source": [
        "class_idxs = np.nonzero(y_train == class_to_remove)[0]\n",
        "num_holdout_samples = int(holdout_sample_size * len(class_idxs))\n",
        "np.random.shuffle(class_idxs)\n",
        "to_remove = class_idxs[:num_holdout_samples]\n",
        "holdout_x = x_train[to_remove]\n",
        "x_train = np.delete(x_train, to_remove, axis=0)\n",
        "holdout_y = y_train[to_remove]\n",
        "y_train = np.delete(y_train, to_remove, axis=0)\n",
        "print(holdout_x.shape)\n",
        "print(holdout_y.shape)\n",
        "print(x_train.shape)\n",
        "print(y_train.shape)"
      ],
      "execution_count": 9,
      "outputs": [
        {
          "output_type": "stream",
          "text": [
            "(4500, 32, 32, 3)\n",
            "(4500, 1)\n",
            "(45500, 32, 32, 3)\n",
            "(45500, 1)\n"
          ],
          "name": "stdout"
        }
      ]
    },
    {
      "cell_type": "code",
      "metadata": {
        "id": "zSx2yy4dGIZm",
        "colab_type": "code",
        "colab": {}
      },
      "source": [
        "input_shape = x_train.shape[1:]"
      ],
      "execution_count": 0,
      "outputs": []
    },
    {
      "cell_type": "code",
      "metadata": {
        "id": "KrA1tw7GCUDc",
        "colab_type": "code",
        "colab": {}
      },
      "source": [
        "# Get one-hot representation\n",
        "y_train = tf.keras.utils.to_categorical(y_train, num_classes)\n",
        "y_test = tf.keras.utils.to_categorical(y_test, num_classes)\n",
        "holdout_y = tf.keras.utils.to_categorical(holdout_y, num_classes)"
      ],
      "execution_count": 0,
      "outputs": []
    },
    {
      "cell_type": "code",
      "metadata": {
        "id": "zl0XutUlkvhU",
        "colab_type": "code",
        "colab": {
          "base_uri": "https://localhost:8080/",
          "height": 85
        },
        "outputId": "89a5baea-99e2-4aad-d319-04eff0544d04"
      },
      "source": [
        "print(holdout_x.shape)\n",
        "print(x_train.shape)\n",
        "print(holdout_y.shape)\n",
        "print(y_train.shape)"
      ],
      "execution_count": 12,
      "outputs": [
        {
          "output_type": "stream",
          "text": [
            "(4500, 32, 32, 3)\n",
            "(45500, 32, 32, 3)\n",
            "(4500, 10)\n",
            "(45500, 10)\n"
          ],
          "name": "stdout"
        }
      ]
    },
    {
      "cell_type": "markdown",
      "metadata": {
        "id": "abjHvvSxEoEv",
        "colab_type": "text"
      },
      "source": [
        "## Instantiate model and training params"
      ]
    },
    {
      "cell_type": "code",
      "metadata": {
        "id": "g9YTPzvOGBxt",
        "colab_type": "code",
        "outputId": "e48cb90e-48de-4ce9-f376-af7dd4b57d3a",
        "colab": {
          "base_uri": "https://localhost:8080/",
          "height": 68
        }
      },
      "source": [
        "model = resnet_v2(input_shape=input_shape, depth=depth)"
      ],
      "execution_count": 13,
      "outputs": [
        {
          "output_type": "stream",
          "text": [
            "WARNING:tensorflow:From /usr/local/lib/python3.6/dist-packages/tensorflow/python/ops/resource_variable_ops.py:435: colocate_with (from tensorflow.python.framework.ops) is deprecated and will be removed in a future version.\n",
            "Instructions for updating:\n",
            "Colocations handled automatically by placer.\n"
          ],
          "name": "stdout"
        }
      ]
    },
    {
      "cell_type": "code",
      "metadata": {
        "id": "4m0PRJnWGDps",
        "colab_type": "code",
        "outputId": "9b4f85ed-fc3b-43c7-ac09-0c1037e7ec9b",
        "colab": {
          "base_uri": "https://localhost:8080/",
          "height": 2635
        }
      },
      "source": [
        "model.compile(loss='categorical_crossentropy',\n",
        "              optimizer=Adam(lr=lr_schedule(0)),\n",
        "              metrics=['accuracy'])\n",
        "model.summary()"
      ],
      "execution_count": 14,
      "outputs": [
        {
          "output_type": "stream",
          "text": [
            "Learning rate:  0.001\n",
            "__________________________________________________________________________________________________\n",
            "Layer (type)                    Output Shape         Param #     Connected to                     \n",
            "==================================================================================================\n",
            "input_1 (InputLayer)            (None, 32, 32, 3)    0                                            \n",
            "__________________________________________________________________________________________________\n",
            "conv2d (Conv2D)                 (None, 32, 32, 16)   448         input_1[0][0]                    \n",
            "__________________________________________________________________________________________________\n",
            "batch_normalization_v1 (BatchNo (None, 32, 32, 16)   64          conv2d[0][0]                     \n",
            "__________________________________________________________________________________________________\n",
            "activation (Activation)         (None, 32, 32, 16)   0           batch_normalization_v1[0][0]     \n",
            "__________________________________________________________________________________________________\n",
            "conv2d_1 (Conv2D)               (None, 32, 32, 16)   272         activation[0][0]                 \n",
            "__________________________________________________________________________________________________\n",
            "batch_normalization_v1_1 (Batch (None, 32, 32, 16)   64          conv2d_1[0][0]                   \n",
            "__________________________________________________________________________________________________\n",
            "activation_1 (Activation)       (None, 32, 32, 16)   0           batch_normalization_v1_1[0][0]   \n",
            "__________________________________________________________________________________________________\n",
            "conv2d_2 (Conv2D)               (None, 32, 32, 16)   2320        activation_1[0][0]               \n",
            "__________________________________________________________________________________________________\n",
            "batch_normalization_v1_2 (Batch (None, 32, 32, 16)   64          conv2d_2[0][0]                   \n",
            "__________________________________________________________________________________________________\n",
            "activation_2 (Activation)       (None, 32, 32, 16)   0           batch_normalization_v1_2[0][0]   \n",
            "__________________________________________________________________________________________________\n",
            "conv2d_4 (Conv2D)               (None, 32, 32, 64)   1088        activation[0][0]                 \n",
            "__________________________________________________________________________________________________\n",
            "conv2d_3 (Conv2D)               (None, 32, 32, 64)   1088        activation_2[0][0]               \n",
            "__________________________________________________________________________________________________\n",
            "add (Add)                       (None, 32, 32, 64)   0           conv2d_4[0][0]                   \n",
            "                                                                 conv2d_3[0][0]                   \n",
            "__________________________________________________________________________________________________\n",
            "batch_normalization_v1_3 (Batch (None, 32, 32, 64)   256         add[0][0]                        \n",
            "__________________________________________________________________________________________________\n",
            "activation_3 (Activation)       (None, 32, 32, 64)   0           batch_normalization_v1_3[0][0]   \n",
            "__________________________________________________________________________________________________\n",
            "conv2d_5 (Conv2D)               (None, 32, 32, 16)   1040        activation_3[0][0]               \n",
            "__________________________________________________________________________________________________\n",
            "batch_normalization_v1_4 (Batch (None, 32, 32, 16)   64          conv2d_5[0][0]                   \n",
            "__________________________________________________________________________________________________\n",
            "activation_4 (Activation)       (None, 32, 32, 16)   0           batch_normalization_v1_4[0][0]   \n",
            "__________________________________________________________________________________________________\n",
            "conv2d_6 (Conv2D)               (None, 32, 32, 16)   2320        activation_4[0][0]               \n",
            "__________________________________________________________________________________________________\n",
            "batch_normalization_v1_5 (Batch (None, 32, 32, 16)   64          conv2d_6[0][0]                   \n",
            "__________________________________________________________________________________________________\n",
            "activation_5 (Activation)       (None, 32, 32, 16)   0           batch_normalization_v1_5[0][0]   \n",
            "__________________________________________________________________________________________________\n",
            "conv2d_7 (Conv2D)               (None, 32, 32, 64)   1088        activation_5[0][0]               \n",
            "__________________________________________________________________________________________________\n",
            "add_1 (Add)                     (None, 32, 32, 64)   0           add[0][0]                        \n",
            "                                                                 conv2d_7[0][0]                   \n",
            "__________________________________________________________________________________________________\n",
            "batch_normalization_v1_6 (Batch (None, 32, 32, 64)   256         add_1[0][0]                      \n",
            "__________________________________________________________________________________________________\n",
            "activation_6 (Activation)       (None, 32, 32, 64)   0           batch_normalization_v1_6[0][0]   \n",
            "__________________________________________________________________________________________________\n",
            "conv2d_8 (Conv2D)               (None, 16, 16, 64)   4160        activation_6[0][0]               \n",
            "__________________________________________________________________________________________________\n",
            "batch_normalization_v1_7 (Batch (None, 16, 16, 64)   256         conv2d_8[0][0]                   \n",
            "__________________________________________________________________________________________________\n",
            "activation_7 (Activation)       (None, 16, 16, 64)   0           batch_normalization_v1_7[0][0]   \n",
            "__________________________________________________________________________________________________\n",
            "conv2d_9 (Conv2D)               (None, 16, 16, 64)   36928       activation_7[0][0]               \n",
            "__________________________________________________________________________________________________\n",
            "batch_normalization_v1_8 (Batch (None, 16, 16, 64)   256         conv2d_9[0][0]                   \n",
            "__________________________________________________________________________________________________\n",
            "activation_8 (Activation)       (None, 16, 16, 64)   0           batch_normalization_v1_8[0][0]   \n",
            "__________________________________________________________________________________________________\n",
            "conv2d_11 (Conv2D)              (None, 16, 16, 128)  8320        add_1[0][0]                      \n",
            "__________________________________________________________________________________________________\n",
            "conv2d_10 (Conv2D)              (None, 16, 16, 128)  8320        activation_8[0][0]               \n",
            "__________________________________________________________________________________________________\n",
            "add_2 (Add)                     (None, 16, 16, 128)  0           conv2d_11[0][0]                  \n",
            "                                                                 conv2d_10[0][0]                  \n",
            "__________________________________________________________________________________________________\n",
            "batch_normalization_v1_9 (Batch (None, 16, 16, 128)  512         add_2[0][0]                      \n",
            "__________________________________________________________________________________________________\n",
            "activation_9 (Activation)       (None, 16, 16, 128)  0           batch_normalization_v1_9[0][0]   \n",
            "__________________________________________________________________________________________________\n",
            "conv2d_12 (Conv2D)              (None, 16, 16, 64)   8256        activation_9[0][0]               \n",
            "__________________________________________________________________________________________________\n",
            "batch_normalization_v1_10 (Batc (None, 16, 16, 64)   256         conv2d_12[0][0]                  \n",
            "__________________________________________________________________________________________________\n",
            "activation_10 (Activation)      (None, 16, 16, 64)   0           batch_normalization_v1_10[0][0]  \n",
            "__________________________________________________________________________________________________\n",
            "conv2d_13 (Conv2D)              (None, 16, 16, 64)   36928       activation_10[0][0]              \n",
            "__________________________________________________________________________________________________\n",
            "batch_normalization_v1_11 (Batc (None, 16, 16, 64)   256         conv2d_13[0][0]                  \n",
            "__________________________________________________________________________________________________\n",
            "activation_11 (Activation)      (None, 16, 16, 64)   0           batch_normalization_v1_11[0][0]  \n",
            "__________________________________________________________________________________________________\n",
            "conv2d_14 (Conv2D)              (None, 16, 16, 128)  8320        activation_11[0][0]              \n",
            "__________________________________________________________________________________________________\n",
            "add_3 (Add)                     (None, 16, 16, 128)  0           add_2[0][0]                      \n",
            "                                                                 conv2d_14[0][0]                  \n",
            "__________________________________________________________________________________________________\n",
            "batch_normalization_v1_12 (Batc (None, 16, 16, 128)  512         add_3[0][0]                      \n",
            "__________________________________________________________________________________________________\n",
            "activation_12 (Activation)      (None, 16, 16, 128)  0           batch_normalization_v1_12[0][0]  \n",
            "__________________________________________________________________________________________________\n",
            "conv2d_15 (Conv2D)              (None, 8, 8, 128)    16512       activation_12[0][0]              \n",
            "__________________________________________________________________________________________________\n",
            "batch_normalization_v1_13 (Batc (None, 8, 8, 128)    512         conv2d_15[0][0]                  \n",
            "__________________________________________________________________________________________________\n",
            "activation_13 (Activation)      (None, 8, 8, 128)    0           batch_normalization_v1_13[0][0]  \n",
            "__________________________________________________________________________________________________\n",
            "conv2d_16 (Conv2D)              (None, 8, 8, 128)    147584      activation_13[0][0]              \n",
            "__________________________________________________________________________________________________\n",
            "batch_normalization_v1_14 (Batc (None, 8, 8, 128)    512         conv2d_16[0][0]                  \n",
            "__________________________________________________________________________________________________\n",
            "activation_14 (Activation)      (None, 8, 8, 128)    0           batch_normalization_v1_14[0][0]  \n",
            "__________________________________________________________________________________________________\n",
            "conv2d_18 (Conv2D)              (None, 8, 8, 256)    33024       add_3[0][0]                      \n",
            "__________________________________________________________________________________________________\n",
            "conv2d_17 (Conv2D)              (None, 8, 8, 256)    33024       activation_14[0][0]              \n",
            "__________________________________________________________________________________________________\n",
            "add_4 (Add)                     (None, 8, 8, 256)    0           conv2d_18[0][0]                  \n",
            "                                                                 conv2d_17[0][0]                  \n",
            "__________________________________________________________________________________________________\n",
            "batch_normalization_v1_15 (Batc (None, 8, 8, 256)    1024        add_4[0][0]                      \n",
            "__________________________________________________________________________________________________\n",
            "activation_15 (Activation)      (None, 8, 8, 256)    0           batch_normalization_v1_15[0][0]  \n",
            "__________________________________________________________________________________________________\n",
            "conv2d_19 (Conv2D)              (None, 8, 8, 128)    32896       activation_15[0][0]              \n",
            "__________________________________________________________________________________________________\n",
            "batch_normalization_v1_16 (Batc (None, 8, 8, 128)    512         conv2d_19[0][0]                  \n",
            "__________________________________________________________________________________________________\n",
            "activation_16 (Activation)      (None, 8, 8, 128)    0           batch_normalization_v1_16[0][0]  \n",
            "__________________________________________________________________________________________________\n",
            "conv2d_20 (Conv2D)              (None, 8, 8, 128)    147584      activation_16[0][0]              \n",
            "__________________________________________________________________________________________________\n",
            "batch_normalization_v1_17 (Batc (None, 8, 8, 128)    512         conv2d_20[0][0]                  \n",
            "__________________________________________________________________________________________________\n",
            "activation_17 (Activation)      (None, 8, 8, 128)    0           batch_normalization_v1_17[0][0]  \n",
            "__________________________________________________________________________________________________\n",
            "conv2d_21 (Conv2D)              (None, 8, 8, 256)    33024       activation_17[0][0]              \n",
            "__________________________________________________________________________________________________\n",
            "add_5 (Add)                     (None, 8, 8, 256)    0           add_4[0][0]                      \n",
            "                                                                 conv2d_21[0][0]                  \n",
            "__________________________________________________________________________________________________\n",
            "batch_normalization_v1_18 (Batc (None, 8, 8, 256)    1024        add_5[0][0]                      \n",
            "__________________________________________________________________________________________________\n",
            "activation_18 (Activation)      (None, 8, 8, 256)    0           batch_normalization_v1_18[0][0]  \n",
            "__________________________________________________________________________________________________\n",
            "average_pooling2d (AveragePooli (None, 1, 1, 256)    0           activation_18[0][0]              \n",
            "__________________________________________________________________________________________________\n",
            "flatten (Flatten)               (None, 256)          0           average_pooling2d[0][0]          \n",
            "__________________________________________________________________________________________________\n",
            "dense (Dense)                   (None, 10)           2570        flatten[0][0]                    \n",
            "==================================================================================================\n",
            "Total params: 574,090\n",
            "Trainable params: 570,602\n",
            "Non-trainable params: 3,488\n",
            "__________________________________________________________________________________________________\n"
          ],
          "name": "stdout"
        }
      ]
    },
    {
      "cell_type": "code",
      "metadata": {
        "id": "3MJi-zsmG0yN",
        "colab_type": "code",
        "colab": {}
      },
      "source": [
        "# Prepare model model saving directory.\n",
        "model_name = 'resnet20_model.{epoch:03d}.h5'\n",
        "if not os.path.isdir(save_dir):\n",
        "    os.makedirs(save_dir)\n",
        "filepath = os.path.join(save_dir, model_name)"
      ],
      "execution_count": 0,
      "outputs": []
    },
    {
      "cell_type": "markdown",
      "metadata": {
        "id": "YiwrOjgaHNxL",
        "colab_type": "text"
      },
      "source": [
        "### Define Callbacks"
      ]
    },
    {
      "cell_type": "code",
      "metadata": {
        "id": "Pvz7I3vEHY8m",
        "colab_type": "code",
        "colab": {}
      },
      "source": [
        "checkpoint = ModelCheckpoint(filepath=filepath,\n",
        "                             monitor='val_acc',\n",
        "                             verbose=1,\n",
        "                             save_best_only=True)\n",
        "tensorboard = tf.keras.callbacks.TensorBoard(log_dir=LOG_DIR, write_graph=True)"
      ],
      "execution_count": 0,
      "outputs": []
    },
    {
      "cell_type": "code",
      "metadata": {
        "id": "PE00O_-IHpi2",
        "colab_type": "code",
        "colab": {}
      },
      "source": [
        "callbacks = [checkpoint, tensorboard]"
      ],
      "execution_count": 0,
      "outputs": []
    },
    {
      "cell_type": "code",
      "metadata": {
        "id": "UMD8FMfMHvJF",
        "colab_type": "code",
        "colab": {}
      },
      "source": [
        "datagen = ImageDataGenerator(\n",
        "    featurewise_center=False,  # set input mean to 0 over the dataset\n",
        "    samplewise_center=False,  # set each sample mean to 0\n",
        "    featurewise_std_normalization=False,  # divide inputs by std of the dataset\n",
        "    samplewise_std_normalization=False,  # divide each input by its std\n",
        "    zca_whitening=False,  # apply ZCA whitening\n",
        "    zca_epsilon=1e-06,  # epsilon for ZCA whitening\n",
        "    rotation_range=0,  # randomly rotate images in the range (degrees, 0 to 180)\n",
        "    # randomly shift images horizontally (fraction of total width)\n",
        "    width_shift_range=0.1,\n",
        "    # randomly shift images vertically (fraction of total height)\n",
        "    height_shift_range=0.1,\n",
        "    # set mode for filling points outside the input boundaries\n",
        "    fill_mode='nearest',\n",
        "    cval=0.,  # value used for fill_mode = \"constant\"\n",
        "    horizontal_flip=True,  # randomly flip images\n",
        "    vertical_flip=False)\n",
        "datagen.fit(x_train)"
      ],
      "execution_count": 0,
      "outputs": []
    },
    {
      "cell_type": "markdown",
      "metadata": {
        "id": "3ulFB-NtK5FJ",
        "colab_type": "text"
      },
      "source": [
        "## Train"
      ]
    },
    {
      "cell_type": "code",
      "metadata": {
        "id": "oj2Zj-9vK8BX",
        "colab_type": "code",
        "outputId": "99cc2005-8592-4f8e-ab62-e1d3d0d60696",
        "colab": {
          "base_uri": "https://localhost:8080/",
          "height": 2635
        }
      },
      "source": [
        "start_time = time.time()\n",
        "model.fit_generator(datagen.flow(x_train, y_train, batch_size=batch_size),\n",
        "                        validation_data=(x_test, y_test),\n",
        "                        epochs=epochs, verbose=1, workers=1,\n",
        "                        callbacks=callbacks)\n",
        "end_time = time.time()\n",
        "print(\"Time per epoch on a K80: {}\".format((end_time-start_time)/epochs))"
      ],
      "execution_count": 19,
      "outputs": [
        {
          "output_type": "stream",
          "text": [
            "WARNING:tensorflow:From /usr/local/lib/python3.6/dist-packages/tensorflow/python/ops/math_ops.py:3066: to_int32 (from tensorflow.python.ops.math_ops) is deprecated and will be removed in a future version.\n",
            "Instructions for updating:\n",
            "Use tf.cast instead.\n",
            "Epoch 1/30\n",
            "10000/10000 [==============================] - 3s 324us/sample - loss: 2.7833 - acc: 0.2723\n",
            "\n",
            "Epoch 00001: val_acc improved from -inf to 0.27230, saving model to /content/saved_models/resnet20_model.001.h5\n",
            "1422/1422 [==============================] - 60s 42ms/step - loss: 1.7163 - acc: 0.4998 - val_loss: 2.7835 - val_acc: 0.2723\n",
            "Epoch 2/30\n",
            "10000/10000 [==============================] - 3s 295us/sample - loss: 1.6387 - acc: 0.5542\n",
            "\n",
            "Epoch 00002: val_acc improved from 0.27230 to 0.55420, saving model to /content/saved_models/resnet20_model.002.h5\n",
            "1422/1422 [==============================] - 52s 36ms/step - loss: 1.3172 - acc: 0.6272 - val_loss: 1.6388 - val_acc: 0.5542\n",
            "Epoch 3/30\n",
            "10000/10000 [==============================] - 3s 288us/sample - loss: 1.3511 - acc: 0.6197\n",
            "\n",
            "Epoch 00003: val_acc improved from 0.55420 to 0.61970, saving model to /content/saved_models/resnet20_model.003.h5\n",
            "1422/1422 [==============================] - 52s 37ms/step - loss: 1.1505 - acc: 0.6800 - val_loss: 1.3505 - val_acc: 0.6197\n",
            "Epoch 4/30\n",
            "10000/10000 [==============================] - 3s 289us/sample - loss: 1.7833 - acc: 0.5393\n",
            "\n",
            "Epoch 00004: val_acc did not improve from 0.61970\n",
            "1422/1422 [==============================] - 52s 37ms/step - loss: 1.0430 - acc: 0.7163 - val_loss: 1.7827 - val_acc: 0.5393\n",
            "Epoch 5/30\n",
            "10000/10000 [==============================] - 3s 285us/sample - loss: 1.4222 - acc: 0.6201\n",
            "\n",
            "Epoch 00005: val_acc improved from 0.61970 to 0.62010, saving model to /content/saved_models/resnet20_model.005.h5\n",
            "1422/1422 [==============================] - 51s 36ms/step - loss: 0.9774 - acc: 0.7397 - val_loss: 1.4219 - val_acc: 0.6201\n",
            "Epoch 6/30\n",
            "10000/10000 [==============================] - 3s 300us/sample - loss: 1.1950 - acc: 0.6631\n",
            "\n",
            "Epoch 00006: val_acc improved from 0.62010 to 0.66310, saving model to /content/saved_models/resnet20_model.006.h5\n",
            "1422/1422 [==============================] - 51s 36ms/step - loss: 0.9256 - acc: 0.7549 - val_loss: 1.1952 - val_acc: 0.6631\n",
            "Epoch 7/30\n",
            "10000/10000 [==============================] - 3s 291us/sample - loss: 1.3244 - acc: 0.6553\n",
            "\n",
            "Epoch 00007: val_acc did not improve from 0.66310\n",
            "1422/1422 [==============================] - 52s 36ms/step - loss: 0.8824 - acc: 0.7716 - val_loss: 1.3251 - val_acc: 0.6553\n",
            "Epoch 8/30\n",
            "10000/10000 [==============================] - 3s 317us/sample - loss: 1.1175 - acc: 0.7180\n",
            "\n",
            "Epoch 00008: val_acc improved from 0.66310 to 0.71800, saving model to /content/saved_models/resnet20_model.008.h5\n",
            "1422/1422 [==============================] - 53s 37ms/step - loss: 0.8498 - acc: 0.7834 - val_loss: 1.1175 - val_acc: 0.7180\n",
            "Epoch 9/30\n",
            "10000/10000 [==============================] - 3s 288us/sample - loss: 1.2412 - acc: 0.6876\n",
            "\n",
            "Epoch 00009: val_acc did not improve from 0.71800\n",
            "1422/1422 [==============================] - 52s 37ms/step - loss: 0.8209 - acc: 0.7918 - val_loss: 1.2412 - val_acc: 0.6876\n",
            "Epoch 10/30\n",
            "10000/10000 [==============================] - 3s 291us/sample - loss: 1.1104 - acc: 0.7093\n",
            "\n",
            "Epoch 00010: val_acc did not improve from 0.71800\n",
            "1422/1422 [==============================] - 52s 36ms/step - loss: 0.8024 - acc: 0.7967 - val_loss: 1.1102 - val_acc: 0.7093\n",
            "Epoch 11/30\n",
            "10000/10000 [==============================] - 3s 290us/sample - loss: 0.9564 - acc: 0.7497\n",
            "\n",
            "Epoch 00011: val_acc improved from 0.71800 to 0.74970, saving model to /content/saved_models/resnet20_model.011.h5\n",
            "1422/1422 [==============================] - 51s 36ms/step - loss: 0.7778 - acc: 0.8046 - val_loss: 0.9564 - val_acc: 0.7497\n",
            "Epoch 12/30\n",
            "10000/10000 [==============================] - 3s 307us/sample - loss: 1.1878 - acc: 0.6963\n",
            "\n",
            "Epoch 00012: val_acc did not improve from 0.74970\n",
            "1422/1422 [==============================] - 52s 37ms/step - loss: 0.7649 - acc: 0.8101 - val_loss: 1.1873 - val_acc: 0.6963\n",
            "Epoch 13/30\n",
            "10000/10000 [==============================] - 3s 289us/sample - loss: 1.1419 - acc: 0.7090\n",
            "\n",
            "Epoch 00013: val_acc did not improve from 0.74970\n",
            "1422/1422 [==============================] - 53s 37ms/step - loss: 0.7472 - acc: 0.8141 - val_loss: 1.1419 - val_acc: 0.7090\n",
            "Epoch 14/30\n",
            "10000/10000 [==============================] - 3s 283us/sample - loss: 1.1769 - acc: 0.7115\n",
            "\n",
            "Epoch 00014: val_acc did not improve from 0.74970\n",
            "1422/1422 [==============================] - 50s 35ms/step - loss: 0.7298 - acc: 0.8224 - val_loss: 1.1770 - val_acc: 0.7115\n",
            "Epoch 15/30\n",
            "10000/10000 [==============================] - 3s 280us/sample - loss: 1.0020 - acc: 0.7511\n",
            "\n",
            "Epoch 00015: val_acc improved from 0.74970 to 0.75110, saving model to /content/saved_models/resnet20_model.015.h5\n",
            "1422/1422 [==============================] - 52s 36ms/step - loss: 0.7185 - acc: 0.8237 - val_loss: 1.0020 - val_acc: 0.7511\n",
            "Epoch 16/30\n",
            "10000/10000 [==============================] - 3s 287us/sample - loss: 0.8893 - acc: 0.7737\n",
            "\n",
            "Epoch 00016: val_acc improved from 0.75110 to 0.77370, saving model to /content/saved_models/resnet20_model.016.h5\n",
            "1422/1422 [==============================] - 51s 36ms/step - loss: 0.7111 - acc: 0.8285 - val_loss: 0.8888 - val_acc: 0.7737\n",
            "Epoch 17/30\n",
            "10000/10000 [==============================] - 3s 281us/sample - loss: 1.6896 - acc: 0.6409\n",
            "\n",
            "Epoch 00017: val_acc did not improve from 0.77370\n",
            "1422/1422 [==============================] - 49s 35ms/step - loss: 0.6928 - acc: 0.8338 - val_loss: 1.6896 - val_acc: 0.6409\n",
            "Epoch 18/30\n",
            "10000/10000 [==============================] - 3s 282us/sample - loss: 1.0142 - acc: 0.7517\n",
            "\n",
            "Epoch 00018: val_acc did not improve from 0.77370\n",
            "1422/1422 [==============================] - 51s 36ms/step - loss: 0.6907 - acc: 0.8338 - val_loss: 1.0139 - val_acc: 0.7517\n",
            "Epoch 19/30\n",
            "10000/10000 [==============================] - 3s 316us/sample - loss: 0.8715 - acc: 0.7756\n",
            "\n",
            "Epoch 00019: val_acc improved from 0.77370 to 0.77560, saving model to /content/saved_models/resnet20_model.019.h5\n",
            "1422/1422 [==============================] - 52s 37ms/step - loss: 0.6807 - acc: 0.8378 - val_loss: 0.8713 - val_acc: 0.7756\n",
            "Epoch 20/30\n",
            "10000/10000 [==============================] - 3s 282us/sample - loss: 0.8554 - acc: 0.7774\n",
            "\n",
            "Epoch 00020: val_acc improved from 0.77560 to 0.77740, saving model to /content/saved_models/resnet20_model.020.h5\n",
            "1422/1422 [==============================] - 50s 35ms/step - loss: 0.6704 - acc: 0.8412 - val_loss: 0.8554 - val_acc: 0.7774\n",
            "Epoch 21/30\n",
            "10000/10000 [==============================] - 3s 277us/sample - loss: 0.8771 - acc: 0.7792\n",
            "\n",
            "Epoch 00021: val_acc improved from 0.77740 to 0.77920, saving model to /content/saved_models/resnet20_model.021.h5\n",
            "1422/1422 [==============================] - 51s 36ms/step - loss: 0.6546 - acc: 0.8442 - val_loss: 0.8775 - val_acc: 0.7792\n",
            "Epoch 22/30\n",
            "10000/10000 [==============================] - 3s 278us/sample - loss: 0.9520 - acc: 0.7606\n",
            "\n",
            "Epoch 00022: val_acc did not improve from 0.77920\n",
            "1422/1422 [==============================] - 48s 34ms/step - loss: 0.6557 - acc: 0.8431 - val_loss: 0.9519 - val_acc: 0.7606\n",
            "Epoch 23/30\n",
            "10000/10000 [==============================] - 3s 282us/sample - loss: 1.0370 - acc: 0.7410\n",
            "\n",
            "Epoch 00023: val_acc did not improve from 0.77920\n",
            "1422/1422 [==============================] - 50s 35ms/step - loss: 0.6544 - acc: 0.8440 - val_loss: 1.0369 - val_acc: 0.7410\n",
            "Epoch 24/30\n",
            "10000/10000 [==============================] - 3s 278us/sample - loss: 1.2951 - acc: 0.7038\n",
            "\n",
            "Epoch 00024: val_acc did not improve from 0.77920\n",
            "1422/1422 [==============================] - 50s 35ms/step - loss: 0.6402 - acc: 0.8513 - val_loss: 1.2955 - val_acc: 0.7038\n",
            "Epoch 25/30\n",
            "10000/10000 [==============================] - 3s 278us/sample - loss: 0.8576 - acc: 0.7874\n",
            "\n",
            "Epoch 00025: val_acc improved from 0.77920 to 0.78740, saving model to /content/saved_models/resnet20_model.025.h5\n",
            "1422/1422 [==============================] - 50s 35ms/step - loss: 0.6386 - acc: 0.8504 - val_loss: 0.8575 - val_acc: 0.7874\n",
            "Epoch 26/30\n",
            "10000/10000 [==============================] - 3s 279us/sample - loss: 1.0390 - acc: 0.7505\n",
            "\n",
            "Epoch 00026: val_acc did not improve from 0.78740\n",
            "1422/1422 [==============================] - 50s 35ms/step - loss: 0.6290 - acc: 0.8535 - val_loss: 1.0391 - val_acc: 0.7505\n",
            "Epoch 27/30\n",
            "10000/10000 [==============================] - 3s 314us/sample - loss: 1.0570 - acc: 0.7383\n",
            "\n",
            "Epoch 00027: val_acc did not improve from 0.78740\n",
            "1422/1422 [==============================] - 50s 35ms/step - loss: 0.6254 - acc: 0.8554 - val_loss: 1.0565 - val_acc: 0.7383\n",
            "Epoch 28/30\n",
            "10000/10000 [==============================] - 3s 279us/sample - loss: 1.3563 - acc: 0.6788\n",
            "\n",
            "Epoch 00028: val_acc did not improve from 0.78740\n",
            "1422/1422 [==============================] - 49s 35ms/step - loss: 0.6193 - acc: 0.8571 - val_loss: 1.3563 - val_acc: 0.6788\n",
            "Epoch 29/30\n",
            "10000/10000 [==============================] - 3s 280us/sample - loss: 1.1456 - acc: 0.7162\n",
            "\n",
            "Epoch 00029: val_acc did not improve from 0.78740\n",
            "1422/1422 [==============================] - 50s 35ms/step - loss: 0.6192 - acc: 0.8567 - val_loss: 1.1458 - val_acc: 0.7162\n",
            "Epoch 30/30\n",
            "10000/10000 [==============================] - 3s 281us/sample - loss: 0.9643 - acc: 0.7600\n",
            "\n",
            "Epoch 00030: val_acc did not improve from 0.78740\n",
            "1422/1422 [==============================] - 48s 34ms/step - loss: 0.6074 - acc: 0.8610 - val_loss: 0.9642 - val_acc: 0.7600\n",
            "Time per epoch on a K80: 51.312470348676044\n"
          ],
          "name": "stdout"
        }
      ]
    },
    {
      "cell_type": "code",
      "metadata": {
        "id": "cEiy35yejg0H",
        "colab_type": "code",
        "colab": {}
      },
      "source": [
        "model.save('resnet20_cifar10_0.9holdout7.h5')"
      ],
      "execution_count": 0,
      "outputs": []
    },
    {
      "cell_type": "markdown",
      "metadata": {
        "id": "UFSf-i4GW8dq",
        "colab_type": "text"
      },
      "source": [
        "### Plot classwise accuracy"
      ]
    },
    {
      "cell_type": "code",
      "metadata": {
        "id": "IHx1wAEwe-tQ",
        "colab_type": "code",
        "colab": {
          "base_uri": "https://localhost:8080/",
          "height": 306
        },
        "outputId": "a020402f-1822-4c4b-db93-e0c371f5aeee"
      },
      "source": [
        "from sklearn.metrics import classification_report\n",
        "Y_test = np.argmax(y_test, axis=1) # Convert one-hot to index\n",
        "y_pred = model.predict(x_test)\n",
        "y_pred = np.argmax(y_pred,axis=1)\n",
        "print(classification_report(Y_test, y_pred))"
      ],
      "execution_count": 21,
      "outputs": [
        {
          "output_type": "stream",
          "text": [
            "              precision    recall  f1-score   support\n",
            "\n",
            "           0       0.73      0.85      0.79      1000\n",
            "           1       0.87      0.93      0.90      1000\n",
            "           2       0.57      0.88      0.69      1000\n",
            "           3       0.78      0.56      0.65      1000\n",
            "           4       0.73      0.82      0.77      1000\n",
            "           5       0.60      0.82      0.69      1000\n",
            "           6       0.84      0.88      0.86      1000\n",
            "           7       0.99      0.33      0.49      1000\n",
            "           8       0.89      0.89      0.89      1000\n",
            "           9       0.99      0.64      0.78      1000\n",
            "\n",
            "   micro avg       0.76      0.76      0.76     10000\n",
            "   macro avg       0.80      0.76      0.75     10000\n",
            "weighted avg       0.80      0.76      0.75     10000\n",
            "\n"
          ],
          "name": "stdout"
        }
      ]
    },
    {
      "cell_type": "markdown",
      "metadata": {
        "id": "fCTWs1dUhNPb",
        "colab_type": "text"
      },
      "source": [
        "## Retraining model"
      ]
    },
    {
      "cell_type": "code",
      "metadata": {
        "id": "PGaqte-MkFEu",
        "colab_type": "code",
        "colab": {}
      },
      "source": [
        "retrain_epochs = 10"
      ],
      "execution_count": 0,
      "outputs": []
    },
    {
      "cell_type": "code",
      "metadata": {
        "id": "5UlRL1jRkRzl",
        "colab_type": "code",
        "colab": {
          "base_uri": "https://localhost:8080/",
          "height": 85
        },
        "outputId": "50ad5826-97c9-45af-b1d6-29ab6a626baf"
      },
      "source": [
        "print(holdout_y.shape)\n",
        "print(y_train.shape)\n",
        "print(holdout_x.shape)\n",
        "print(x_train.shape)"
      ],
      "execution_count": 23,
      "outputs": [
        {
          "output_type": "stream",
          "text": [
            "(4500, 10)\n",
            "(45500, 10)\n",
            "(4500, 32, 32, 3)\n",
            "(45500, 32, 32, 3)\n"
          ],
          "name": "stdout"
        }
      ]
    },
    {
      "cell_type": "code",
      "metadata": {
        "id": "PGHRvxehhQ7J",
        "colab_type": "code",
        "colab": {
          "base_uri": "https://localhost:8080/",
          "height": 884
        },
        "outputId": "3a3b5703-3a9c-4f8f-cd8f-e9f67491f3f4"
      },
      "source": [
        "start_time = time.time()\n",
        "model.fit_generator(datagen.flow(holdout_x, holdout_y, batch_size=batch_size),\n",
        "                        validation_data=(x_test, y_test),\n",
        "                        epochs=retrain_epochs, verbose=1, workers=1,\n",
        "                        callbacks=callbacks)\n",
        "end_time = time.time()\n",
        "print(\"Time per epoch on a K80: {}\".format((end_time-start_time)/epochs))"
      ],
      "execution_count": 24,
      "outputs": [
        {
          "output_type": "stream",
          "text": [
            "Epoch 1/10\n",
            "10000/10000 [==============================] - 4s 428us/sample - loss: 11.6047 - acc: 0.1003\n",
            "\n",
            "Epoch 00001: val_acc did not improve from 0.78740\n",
            "141/141 [==============================] - 9s 64ms/step - loss: 0.4752 - acc: 0.9476 - val_loss: 11.6047 - val_acc: 0.1003\n",
            "Epoch 2/10\n",
            "10000/10000 [==============================] - 3s 312us/sample - loss: 10.2935 - acc: 0.1014\n",
            "\n",
            "Epoch 00002: val_acc did not improve from 0.78740\n",
            "141/141 [==============================] - 8s 59ms/step - loss: 0.1998 - acc: 1.0000 - val_loss: 10.2926 - val_acc: 0.1014\n",
            "Epoch 3/10\n",
            "10000/10000 [==============================] - 3s 314us/sample - loss: 10.0315 - acc: 0.1015\n",
            "\n",
            "Epoch 00003: val_acc did not improve from 0.78740\n",
            "141/141 [==============================] - 8s 55ms/step - loss: 0.1946 - acc: 1.0000 - val_loss: 10.0307 - val_acc: 0.1015\n",
            "Epoch 4/10\n",
            "10000/10000 [==============================] - 3s 321us/sample - loss: 9.9633 - acc: 0.1014\n",
            "\n",
            "Epoch 00004: val_acc did not improve from 0.78740\n",
            "141/141 [==============================] - 9s 61ms/step - loss: 0.1893 - acc: 1.0000 - val_loss: 9.9626 - val_acc: 0.1014\n",
            "Epoch 5/10\n",
            "10000/10000 [==============================] - 3s 285us/sample - loss: 9.9328 - acc: 0.1013\n",
            "\n",
            "Epoch 00005: val_acc did not improve from 0.78740\n",
            "141/141 [==============================] - 7s 53ms/step - loss: 0.1841 - acc: 1.0000 - val_loss: 9.9321 - val_acc: 0.1013\n",
            "Epoch 6/10\n",
            "10000/10000 [==============================] - 3s 281us/sample - loss: 9.9204 - acc: 0.1013\n",
            "\n",
            "Epoch 00006: val_acc did not improve from 0.78740\n",
            "141/141 [==============================] - 7s 52ms/step - loss: 0.1787 - acc: 1.0000 - val_loss: 9.9197 - val_acc: 0.1013\n",
            "Epoch 7/10\n",
            "10000/10000 [==============================] - 3s 282us/sample - loss: 9.9064 - acc: 0.1012\n",
            "\n",
            "Epoch 00007: val_acc did not improve from 0.78740\n",
            "141/141 [==============================] - 7s 52ms/step - loss: 0.1732 - acc: 1.0000 - val_loss: 9.9057 - val_acc: 0.1012\n",
            "Epoch 8/10\n",
            "10000/10000 [==============================] - 3s 287us/sample - loss: 9.8857 - acc: 0.1011\n",
            "\n",
            "Epoch 00008: val_acc did not improve from 0.78740\n",
            "141/141 [==============================] - 7s 53ms/step - loss: 0.1677 - acc: 1.0000 - val_loss: 9.8850 - val_acc: 0.1011\n",
            "Epoch 9/10\n",
            "10000/10000 [==============================] - 3s 287us/sample - loss: 9.8371 - acc: 0.1011\n",
            "\n",
            "Epoch 00009: val_acc did not improve from 0.78740\n",
            "141/141 [==============================] - 8s 53ms/step - loss: 0.1621 - acc: 1.0000 - val_loss: 9.8365 - val_acc: 0.1011\n",
            "Epoch 10/10\n",
            "10000/10000 [==============================] - 3s 285us/sample - loss: 9.8162 - acc: 0.1010\n",
            "\n",
            "Epoch 00010: val_acc did not improve from 0.78740\n",
            "141/141 [==============================] - 7s 53ms/step - loss: 0.1564 - acc: 1.0000 - val_loss: 9.8155 - val_acc: 0.1010\n",
            "Time per epoch on a K80: 2.641859753926595\n"
          ],
          "name": "stdout"
        }
      ]
    },
    {
      "cell_type": "code",
      "metadata": {
        "id": "YQkHoYU8kLS8",
        "colab_type": "code",
        "colab": {
          "base_uri": "https://localhost:8080/",
          "height": 340
        },
        "outputId": "7d1629ca-59ab-4838-9a7b-06508bf33155"
      },
      "source": [
        "from sklearn.metrics import classification_report\n",
        "Y_test = np.argmax(y_test, axis=1) # Convert one-hot to index\n",
        "y_pred = model.predict(x_test)\n",
        "y_pred = np.argmax(y_pred,axis=1)\n",
        "print(classification_report(Y_test, y_pred))"
      ],
      "execution_count": 25,
      "outputs": [
        {
          "output_type": "stream",
          "text": [
            "              precision    recall  f1-score   support\n",
            "\n",
            "           0       0.00      0.00      0.00      1000\n",
            "           1       1.00      0.00      0.00      1000\n",
            "           2       0.00      0.00      0.00      1000\n",
            "           3       0.00      0.00      0.00      1000\n",
            "           4       1.00      0.00      0.00      1000\n",
            "           5       0.00      0.00      0.00      1000\n",
            "           6       1.00      0.01      0.01      1000\n",
            "           7       0.10      1.00      0.18      1000\n",
            "           8       1.00      0.00      0.00      1000\n",
            "           9       0.00      0.00      0.00      1000\n",
            "\n",
            "   micro avg       0.10      0.10      0.10     10000\n",
            "   macro avg       0.41      0.10      0.02     10000\n",
            "weighted avg       0.41      0.10      0.02     10000\n",
            "\n"
          ],
          "name": "stdout"
        },
        {
          "output_type": "stream",
          "text": [
            "/usr/local/lib/python3.6/dist-packages/sklearn/metrics/classification.py:1143: UndefinedMetricWarning: Precision and F-score are ill-defined and being set to 0.0 in labels with no predicted samples.\n",
            "  'precision', 'predicted', average, warn_for)\n"
          ],
          "name": "stderr"
        }
      ]
    },
    {
      "cell_type": "markdown",
      "metadata": {
        "id": "XL0K7_ZytQzv",
        "colab_type": "text"
      },
      "source": [
        "### Retry"
      ]
    },
    {
      "cell_type": "code",
      "metadata": {
        "id": "CpShBsq9IsXd",
        "colab_type": "code",
        "colab": {}
      },
      "source": [
        "model = tf.keras.models.load_model(\"resnet20_cifar10_0.9holdout7.h5\")"
      ],
      "execution_count": 0,
      "outputs": []
    },
    {
      "cell_type": "code",
      "metadata": {
        "id": "w6gZI1dWI4aF",
        "colab_type": "code",
        "colab": {
          "base_uri": "https://localhost:8080/",
          "height": 34
        },
        "outputId": "5f391f5e-11bd-48b3-ef3c-8886a6890bc9"
      },
      "source": [
        "import tensorflow.keras.backend as K\n",
        "K.set_value(model.optimizer.lr, .00001)\n",
        "K.get_value(model.optimizer.lr)"
      ],
      "execution_count": 35,
      "outputs": [
        {
          "output_type": "execute_result",
          "data": {
            "text/plain": [
              "1e-05"
            ]
          },
          "metadata": {
            "tags": []
          },
          "execution_count": 35
        }
      ]
    },
    {
      "cell_type": "code",
      "metadata": {
        "id": "rTPu8sCnI7Mr",
        "colab_type": "code",
        "colab": {
          "base_uri": "https://localhost:8080/",
          "height": 884
        },
        "outputId": "f16cd077-84aa-4c87-8ee3-fcfae69bc9d5"
      },
      "source": [
        "start_time = time.time()\n",
        "model.fit_generator(datagen.flow(holdout_x, holdout_y, batch_size=batch_size),\n",
        "                        validation_data=(x_test, y_test),\n",
        "                        epochs=retrain_epochs, verbose=1, workers=1,\n",
        "                        callbacks=callbacks)\n",
        "end_time = time.time()\n",
        "print(\"Time per epoch on a K80: {}\".format((end_time-start_time)/epochs))"
      ],
      "execution_count": 36,
      "outputs": [
        {
          "output_type": "stream",
          "text": [
            "Epoch 1/10\n",
            "10000/10000 [==============================] - 3s 282us/sample - loss: 1.0479 - acc: 0.7515\n",
            "\n",
            "Epoch 00001: val_acc did not improve from 0.78740\n",
            "141/141 [==============================] - 7s 52ms/step - loss: 6.2583 - acc: 0.0551 - val_loss: 1.0475 - val_acc: 0.7515\n",
            "Epoch 2/10\n",
            "10000/10000 [==============================] - 3s 286us/sample - loss: 1.0689 - acc: 0.7453\n",
            "\n",
            "Epoch 00002: val_acc did not improve from 0.78740\n",
            "141/141 [==============================] - 7s 53ms/step - loss: 4.8249 - acc: 0.1040 - val_loss: 1.0684 - val_acc: 0.7453\n",
            "Epoch 3/10\n",
            "10000/10000 [==============================] - 3s 288us/sample - loss: 1.0587 - acc: 0.7427\n",
            "\n",
            "Epoch 00003: val_acc did not improve from 0.78740\n",
            "141/141 [==============================] - 8s 53ms/step - loss: 3.8587 - acc: 0.1660 - val_loss: 1.0582 - val_acc: 0.7427\n",
            "Epoch 4/10\n",
            "10000/10000 [==============================] - 3s 287us/sample - loss: 1.0321 - acc: 0.7465\n",
            "\n",
            "Epoch 00004: val_acc did not improve from 0.78740\n",
            "141/141 [==============================] - 7s 53ms/step - loss: 3.0997 - acc: 0.2427 - val_loss: 1.0316 - val_acc: 0.7465\n",
            "Epoch 5/10\n",
            "10000/10000 [==============================] - 3s 332us/sample - loss: 1.0191 - acc: 0.7481\n",
            "\n",
            "Epoch 00005: val_acc did not improve from 0.78740\n",
            "141/141 [==============================] - 8s 59ms/step - loss: 2.5352 - acc: 0.3309 - val_loss: 1.0186 - val_acc: 0.7481\n",
            "Epoch 6/10\n",
            "10000/10000 [==============================] - 3s 285us/sample - loss: 1.0131 - acc: 0.7487\n",
            "\n",
            "Epoch 00006: val_acc did not improve from 0.78740\n",
            "141/141 [==============================] - 8s 56ms/step - loss: 2.0630 - acc: 0.4349 - val_loss: 1.0127 - val_acc: 0.7487\n",
            "Epoch 7/10\n",
            "10000/10000 [==============================] - 3s 285us/sample - loss: 1.0060 - acc: 0.7490\n",
            "\n",
            "Epoch 00007: val_acc did not improve from 0.78740\n",
            "141/141 [==============================] - 7s 53ms/step - loss: 1.6805 - acc: 0.5338 - val_loss: 1.0056 - val_acc: 0.7490\n",
            "Epoch 8/10\n",
            "10000/10000 [==============================] - 3s 297us/sample - loss: 1.0047 - acc: 0.7482\n",
            "\n",
            "Epoch 00008: val_acc did not improve from 0.78740\n",
            "141/141 [==============================] - 7s 53ms/step - loss: 1.3796 - acc: 0.6424 - val_loss: 1.0045 - val_acc: 0.7482\n",
            "Epoch 9/10\n",
            "10000/10000 [==============================] - 3s 289us/sample - loss: 1.0069 - acc: 0.7448\n",
            "\n",
            "Epoch 00009: val_acc did not improve from 0.78740\n",
            "141/141 [==============================] - 7s 53ms/step - loss: 1.1388 - acc: 0.7291 - val_loss: 1.0067 - val_acc: 0.7448\n",
            "Epoch 10/10\n",
            "10000/10000 [==============================] - 3s 322us/sample - loss: 1.0250 - acc: 0.7390\n",
            "\n",
            "Epoch 00010: val_acc did not improve from 0.78740\n",
            "141/141 [==============================] - 8s 58ms/step - loss: 0.9533 - acc: 0.7980 - val_loss: 1.0248 - val_acc: 0.7390\n",
            "Time per epoch on a K80: 2.6364228169123334\n"
          ],
          "name": "stdout"
        }
      ]
    },
    {
      "cell_type": "code",
      "metadata": {
        "id": "yA4zfVO7JhXR",
        "colab_type": "code",
        "colab": {
          "base_uri": "https://localhost:8080/",
          "height": 306
        },
        "outputId": "dceb2332-85d4-4d82-df92-4eabd5e9b921"
      },
      "source": [
        "from sklearn.metrics import classification_report\n",
        "Y_test = np.argmax(y_test, axis=1) # Convert one-hot to index\n",
        "y_pred = model.predict(x_test)\n",
        "y_pred = np.argmax(y_pred,axis=1)\n",
        "print(classification_report(Y_test, y_pred))"
      ],
      "execution_count": 37,
      "outputs": [
        {
          "output_type": "stream",
          "text": [
            "              precision    recall  f1-score   support\n",
            "\n",
            "           0       0.86      0.75      0.80      1000\n",
            "           1       0.74      0.97      0.84      1000\n",
            "           2       0.75      0.68      0.71      1000\n",
            "           3       0.74      0.47      0.58      1000\n",
            "           4       0.78      0.64      0.70      1000\n",
            "           5       0.93      0.40      0.56      1000\n",
            "           6       0.61      0.94      0.74      1000\n",
            "           7       0.56      0.83      0.67      1000\n",
            "           8       0.89      0.86      0.87      1000\n",
            "           9       0.82      0.83      0.83      1000\n",
            "\n",
            "   micro avg       0.74      0.74      0.74     10000\n",
            "   macro avg       0.77      0.74      0.73     10000\n",
            "weighted avg       0.77      0.74      0.73     10000\n",
            "\n"
          ],
          "name": "stdout"
        }
      ]
    },
    {
      "cell_type": "code",
      "metadata": {
        "id": "brtiAYKLK1kN",
        "colab_type": "code",
        "colab": {}
      },
      "source": [
        ""
      ],
      "execution_count": 0,
      "outputs": []
    }
  ]
}